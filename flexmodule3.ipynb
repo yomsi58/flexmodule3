{
 "cells": [
  {
   "cell_type": "markdown",
   "id": "969989d7",
   "metadata": {},
   "source": [
    "j\n",
    "Build a shopping cart program with the following capabilities:\n",
    "\n",
    "1) Takes in an input\n",
    "2) Stores user input into a dictionary or list\n",
    "3) The User can add or delete items\n",
    "4) The User can see current shopping list\n",
    "5) The program Loops until user 'quits'\n",
    "6) Upon quiting the program, prints out a receipt of the items with total and quantity.\n"
   ]
  },
  {
   "cell_type": "code",
   "execution_count": null,
   "id": "25e0b0df",
   "metadata": {},
   "outputs": [],
   "source": [
    "flex module2 shopping cart"
   ]
  },
  {
   "cell_type": "code",
   "execution_count": 1,
   "id": "f48e2803",
   "metadata": {},
   "outputs": [
    {
     "name": "stdout",
     "output_type": "stream",
     "text": [
      "thank you for shopping with us\n",
      "your not done \n",
      "\t5 appless x $3.0\n",
      " total: $15.00\n"
     ]
    }
   ],
   "source": [
    "from IPython.display import clear_output\n",
    "  \n",
    "def  cart_addition(cart):\n",
    "    item = input(' What do you want to add to your shopping cart?  ')\n",
    "    if item in cart:\n",
    "        numItems = int (input (f'how many {item}s would you add'))\n",
    "        cart[item]['quantity'] +=  numItems\n",
    "    else:\n",
    "        price= float (input(f' input the price of {item}'))\n",
    "        numItems=int(input(f' how many {item}s would want to add to your cart '))\n",
    "        cart[item]={'price':price,'quantity':numItems}\n",
    "    clear_output()\n",
    "    print(f'{numItems}{item}s have been added to your shopping cart so far ' )\n",
    "                           \n",
    "def cart_removal(cart):\n",
    "    cart_display(cart)\n",
    "    item=input(' is there any item that you would want to remove from your shopping cart ')\n",
    "    clear_output()\n",
    "    if item not in cart:\n",
    "        print (f\" {item} is not in your shopping cart \" )\n",
    "    else:\n",
    "        how_many=int(input(f' How many  {cart[item]}' ))\n",
    "        cart[item]['quantity'] -= how_many\n",
    "        if cart[item]['quantity']<=0:\n",
    "            del cart[item]\n",
    "        print( f'{how_many}{item}s have been removed ')                \n",
    "                  \n",
    "def cart_display( cart, finished=False):\n",
    "    total =0\n",
    "    print ('your current shopping cart :'if not  finished  else 'your not done ')\n",
    "    if not cart:\n",
    "        print ('item does not exist in your shopping cart ')\n",
    "    else:\n",
    "        for item ,info in cart.items():\n",
    "            print (f\"\\t{info['quantity']} {item}s x ${info['price']}\")\n",
    "            total += info['quantity'] * info['price']\n",
    "    print( f' total: ${total:.2f}')\n",
    "                \n",
    "                \n",
    "def cart_clear(cart):\n",
    "    sure=input(' Are you sure you want to remove or clear from your cart? ')\n",
    "    while sure not in {'y','n'}:\n",
    "        sure = input('Please choose y or n ')\n",
    "    clear_output()\n",
    "    if sure == \"y\" :\n",
    "        cart.clear()\n",
    "        print('Your cart has been cleared ')                  \n",
    "                \n",
    "def main():                \n",
    "    print(\" Welcome to my store \")\n",
    "    my_cart={}\n",
    "    options={'add', 'remove' ,'show', 'clear', 'quit'}\n",
    "    while True:\n",
    "        answer=input('what would you like to do (options: add, remove, show, clear, quit ) ? ')\n",
    "        while answer not in options:\n",
    "            answer=input('that is not an acceptable answer ')\n",
    "        if answer =='quit':\n",
    "            clear_output()\n",
    "            break\n",
    "        elif answer == 'add':\n",
    "            cart_addition(my_cart)\n",
    "        elif answer== 'remove':\n",
    "            cart_removal(my_cart)\n",
    "        elif answer== 'show':\n",
    "            cart_display(my_cart)\n",
    "        elif answer== 'clear':\n",
    "            cart_clear(my_cart )        \n",
    "    print('thank you for shopping with us')                  \n",
    "    cart_display(my_cart,True)   \n",
    "    \n",
    "main()                    \n",
    "                    \n",
    "                        \n",
    "                    \n",
    "                    \n",
    "                    \n",
    "                    \n",
    "    \n",
    "\n",
    "\n",
    "\n",
    "\n",
    "\n",
    "\n",
    "\n",
    "\n",
    "\n",
    "\n",
    "\n",
    "\n"
   ]
  },
  {
   "cell_type": "code",
   "execution_count": null,
   "id": "8d64e4e6",
   "metadata": {},
   "outputs": [],
   "source": [
    "Exercisec2 create a module in VS code and import in jupiter notebook\n",
    "1. has a function  to calculate the square fortage os the house\n",
    "remember of formula : Lenghxwidth=Area\n",
    "2. Has the function to calculate the circumference of the circle"
   ]
  },
  {
   "cell_type": "code",
   "execution_count": null,
   "id": "4756bf6b",
   "metadata": {},
   "outputs": [],
   "source": [
    "1. has a function  to calculate the square fortage os the house\n",
    "remember of formula : Lenghxwidth=Area"
   ]
  },
  {
   "cell_type": "code",
   "execution_count": 2,
   "id": "67e42485",
   "metadata": {},
   "outputs": [
    {
     "name": "stdout",
     "output_type": "stream",
     "text": [
      "Enter the side:13\n",
      "Area of the square=169\n"
     ]
    }
   ],
   "source": [
    "side = int(input(\"Enter the side:\"))\n",
    "Area = side*side\n",
    "print(\"Area of the square=\"+str(Area))"
   ]
  },
  {
   "cell_type": "code",
   "execution_count": null,
   "id": "51a12ca7",
   "metadata": {},
   "outputs": [],
   "source": [
    "2. Has the function to calculate the circumference of the circle"
   ]
  },
  {
   "cell_type": "code",
   "execution_count": 3,
   "id": "e12036c9",
   "metadata": {},
   "outputs": [
    {
     "name": "stdout",
     "output_type": "stream",
     "text": [
      "Enter the radius of the circle : 7\n",
      "Circumference of the circle is : 43.98\n"
     ]
    }
   ],
   "source": [
    "import math\n",
    "\n",
    "radius = float(input(\"Enter the radius of the circle : \"))\n",
    "\n",
    "circumference = 2 * math.pi * radius\n",
    "\n",
    "print(\"Circumference of the circle is : %.2f\" % circumference)"
   ]
  },
  {
   "cell_type": "code",
   "execution_count": 13,
   "id": "af501c0e",
   "metadata": {},
   "outputs": [
    {
     "name": "stdout",
     "output_type": "stream",
     "text": [
      "thank you for shopping with us\n"
     ]
    }
   ],
   "source": [
    "#Exercice1 Turn the shopping cart from the project yesterday into an object +oriented program\n",
    "\n",
    "class shoppingbag:\n",
    "    def  __init__(self) :\n",
    "        self.shoppingbag={}\n",
    "    def cart_addition(self):\n",
    "        item = input(' What do you want to add to your shopping cart?  ')\n",
    "        if item in self.shoppingbag:\n",
    "            numItems = int (input (f'how many {item}s would you add'))\n",
    "            self.shoppingbag[item]['quantity'] += numItems\n",
    "        else:\n",
    "            price= float (input(f' input the price of {item}'))\n",
    "            numItems=int(input(f' how many {item}s would want to add to your cart '))\n",
    "            self.shoppingbag[item]={'price':price,'quantity':numItems}\n",
    "        clear_output()\n",
    "        print(f'{numItems}{item}s have been added to your shopping cart so far ' )\n",
    "        return self.shoppingbag\n",
    "\n",
    "    def cart_removal(self):\n",
    "        self.shoppingbag_display(self.shoppingbag)\n",
    "        item=input(' is there any item that you would want to remove from your shopping cart ')\n",
    "        clear_output()\n",
    "        if item not in self.shoppingbag:\n",
    "            print (f\" {item} is not in your shopping cart \" )\n",
    "        else:\n",
    "            how_many=int(input(f' How many  {shoppingbag[item]}' ))\n",
    "            self.shoppingbag[item]['quantity'] -= how_many\n",
    "            if self.shoppingbag[item]['quantity']<=0:\n",
    "                del self.shoppingbag[item]\n",
    "            print( f'{how_many}{item}s have been removed ')                \n",
    "\n",
    "    def cart_display(self, finished=False):\n",
    "        total =0\n",
    "        print ('your current shopping cart :'if not  finished  else 'your not done ')\n",
    "        if not self.shoppingbag:\n",
    "            print ('item does not exist in your shopping cart ')\n",
    "        else:\n",
    "            for item ,info in self.shoppingbag.items():\n",
    "                print (f\"\\t{info['quantity']} {item}s x ${info['price']}\")\n",
    "                total += info['quantity'] * info['price']\n",
    "        print( f' total: ${total:.2f}')\n",
    "        return  self\n",
    "\n",
    "    def cart_clear(self,remove):   \n",
    "        sure=input(' Are you sure you want to remove or clear from your cart? ')\n",
    "        while sure not in {'y','n'}:\n",
    "            sure = input('Please choose y or n ')\n",
    "        clear_output()\n",
    "        if sure == \"y\" :\n",
    "            self.shoppingbag.clear()\n",
    "            print('Your cart has been cleared ')                  \n",
    "            self.shoppingbag.remove(remove)\n",
    "\n",
    "def main():                \n",
    "    print(\" Welcome to my  store \")\n",
    "    my_cart= shoppingbag()\n",
    "    options={'add', 'remove' ,'show', 'clear', 'quit'}\n",
    "    while True:\n",
    "        answer=input('what would you like to do (options: add, remove, show, clear, quit ) ? ')\n",
    "        while answer not in options:\n",
    "            answer=input('that is not an acceptable answer ')\n",
    "        if answer =='quit':\n",
    "            clear_output()\n",
    "            break\n",
    "        elif answer == 'add':\n",
    "            shoppingbag.cart_addition()\n",
    "        elif answer== 'remove':\n",
    "            shoppingbag.cart_removal()\n",
    "        elif answer== 'show':\n",
    "            shoppingbag.cart_display(self)\n",
    "        elif answer== 'clear':\n",
    "            shoppingbag.cart_clear()        \n",
    "    print('thank you for shopping with us')      \n",
    "       \n",
    "main()                   \n",
    "\n",
    "\n",
    "\n",
    "\n",
    "    "
   ]
  },
  {
   "cell_type": "code",
   "execution_count": 11,
   "id": "3cdaf2e4",
   "metadata": {},
   "outputs": [
    {
     "name": "stdout",
     "output_type": "stream",
     "text": [
      "RAYmond\n",
      "RAYMOND\n"
     ]
    }
   ],
   "source": [
    "# exercice2. write in python class which two methods:\n",
    "#    get_string and get print_string . get_string accept string from user and print the string in uppercase\n",
    "    \n",
    "class IOString():\n",
    "    def __init__(self):\n",
    "        self.str1 = \"\"\n",
    "\n",
    "    def get_String(self):\n",
    "        self.str1 = input()\n",
    "\n",
    "    def print_String(self):\n",
    "        print(self.str1.upper())\n",
    "\n",
    "str1 = IOString()\n",
    "str1.get_String()\n",
    "str1.print_String()\n",
    "\n"
   ]
  }
 ],
 "metadata": {
  "kernelspec": {
   "display_name": "Python 3 (ipykernel)",
   "language": "python",
   "name": "python3"
  },
  "language_info": {
   "codemirror_mode": {
    "name": "ipython",
    "version": 3
   },
   "file_extension": ".py",
   "mimetype": "text/x-python",
   "name": "python",
   "nbconvert_exporter": "python",
   "pygments_lexer": "ipython3",
   "version": "3.11.4"
  }
 },
 "nbformat": 4,
 "nbformat_minor": 5
}
